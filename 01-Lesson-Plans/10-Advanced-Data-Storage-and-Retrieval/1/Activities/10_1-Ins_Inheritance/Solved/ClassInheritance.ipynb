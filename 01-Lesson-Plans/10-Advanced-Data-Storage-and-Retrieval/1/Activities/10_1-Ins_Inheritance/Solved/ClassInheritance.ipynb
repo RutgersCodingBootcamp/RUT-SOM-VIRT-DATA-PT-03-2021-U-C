{
 "cells": [
  {
   "cell_type": "code",
   "execution_count": 19,
   "metadata": {},
   "outputs": [],
   "source": [
    "#We can share class functionality with other classes through inheritance\n",
    "#Create a Parent class\n",
    "class Animal:\n",
    "    def __init__(self, name, sound):\n",
    "        self.name = name\n",
    "        self.sound = sound\n",
    "        \n",
    "    def make_sound(self):\n",
    "        print(self.sound)\n"
   ]
  },
  {
   "cell_type": "code",
   "execution_count": 20,
   "metadata": {},
   "outputs": [],
   "source": [
    "#Create a child class\n",
    "class Zebra(Animal):\n",
    "    pass\n",
    "\n",
    "class Cow(Animal):\n",
    "    def jump_over_the_moon(self):\n",
    "        print(\"I jump over the moon!\")\n"
   ]
  },
  {
   "cell_type": "code",
   "execution_count": 21,
   "metadata": {},
   "outputs": [
    {
     "name": "stdout",
     "output_type": "stream",
     "text": [
      "Meow\n"
     ]
    },
    {
     "data": {
      "text/plain": [
       "'Chester'"
      ]
     },
     "execution_count": 21,
     "metadata": {},
     "output_type": "execute_result"
    }
   ],
   "source": [
    "#The parent class functions as normal\n",
    "my_animal = Animal(\"Chester\", \"Meow\")\n",
    "my_animal.make_sound()\n",
    "my_animal.name"
   ]
  },
  {
   "cell_type": "code",
   "execution_count": 22,
   "metadata": {},
   "outputs": [
    {
     "name": "stdout",
     "output_type": "stream",
     "text": [
      "Mooo\n",
      "I jump over the moon!\n"
     ]
    }
   ],
   "source": [
    "#The child class has the parents functionality and then some\n",
    "my_cow = Cow(\"Gerttey\", \"Mooo\")\n",
    "my_cow.make_sound()\n",
    "my_cow.jump_over_the_moon()"
   ]
  }
 ],
 "metadata": {
  "kernelspec": {
   "display_name": "Python 3",
   "language": "python",
   "name": "python3"
  },
  "language_info": {
   "codemirror_mode": {
    "name": "ipython",
    "version": 3
   },
   "file_extension": ".py",
   "mimetype": "text/x-python",
   "name": "python",
   "nbconvert_exporter": "python",
   "pygments_lexer": "ipython3",
   "version": "3.6.10"
  }
 },
 "nbformat": 4,
 "nbformat_minor": 4
}
