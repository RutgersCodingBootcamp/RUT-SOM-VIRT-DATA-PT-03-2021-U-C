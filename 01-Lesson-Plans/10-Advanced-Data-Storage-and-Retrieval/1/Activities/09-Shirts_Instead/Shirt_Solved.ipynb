{
 "cells": [
  {
   "cell_type": "markdown",
   "metadata": {},
   "source": [
    "### Create a shirt class\n",
    "* The shirt should have the following attributes: color, size, style, price\n",
    "* Create two methods for shirt:\n",
    "  * change_price: given a new price, change the original price of the shirt; **note this method changes an attribute of the instance**\n",
    "  * discount: given a discount, RETURN the discounted price **note, this method will not change any attributes; it returns a value like a regular python function**\n",
    "  \n",
    "* Instantiate a new shirt\n",
    "* Change the price of the shirt\n",
    "* Print out a 25% discount on the shirt\n",
    "* Print out all of the attributes"
   ]
  },
  {
   "cell_type": "code",
   "execution_count": 1,
   "metadata": {
    "ExecuteTime": {
     "end_time": "2021-06-05T16:48:12.773473Z",
     "start_time": "2021-06-05T16:48:12.769507Z"
    }
   },
   "outputs": [],
   "source": [
    "class Shirt():\n",
    "    \n",
    "    def __init__(self, color, size, style, price):\n",
    "        self.color = color\n",
    "        self.size = size\n",
    "        self.style = style\n",
    "        self.price = price\n",
    "        \n",
    "    def change_price(self, new_price):\n",
    "        self.price = new_price\n",
    "        \n",
    "    def discount(self, percent):\n",
    "        discounted_price = self.price*(1-percent/100)\n",
    "        self.price = discounted_price\n",
    "        return discounted_price"
   ]
  },
  {
   "cell_type": "code",
   "execution_count": 2,
   "metadata": {
    "ExecuteTime": {
     "end_time": "2021-06-05T16:48:59.739675Z",
     "start_time": "2021-06-05T16:48:59.737172Z"
    }
   },
   "outputs": [],
   "source": [
    "shirt = Shirt(\"blue\", \"Medium\", \"Short-Sleeved\", 25)"
   ]
  },
  {
   "cell_type": "code",
   "execution_count": 3,
   "metadata": {
    "ExecuteTime": {
     "end_time": "2021-06-05T16:49:36.883717Z",
     "start_time": "2021-06-05T16:49:36.881096Z"
    }
   },
   "outputs": [],
   "source": [
    "shirt.change_price(99)"
   ]
  },
  {
   "cell_type": "code",
   "execution_count": 5,
   "metadata": {
    "ExecuteTime": {
     "end_time": "2021-06-05T16:50:50.633620Z",
     "start_time": "2021-06-05T16:50:50.630203Z"
    }
   },
   "outputs": [
    {
     "data": {
      "text/plain": [
       "74.25"
      ]
     },
     "execution_count": 5,
     "metadata": {},
     "output_type": "execute_result"
    }
   ],
   "source": [
    "shirt.discount(25)"
   ]
  },
  {
   "cell_type": "code",
   "execution_count": 6,
   "metadata": {
    "ExecuteTime": {
     "end_time": "2021-06-05T16:51:00.236921Z",
     "start_time": "2021-06-05T16:51:00.232777Z"
    }
   },
   "outputs": [
    {
     "data": {
      "text/plain": [
       "99"
      ]
     },
     "execution_count": 6,
     "metadata": {},
     "output_type": "execute_result"
    }
   ],
   "source": [
    "shirt.price"
   ]
  },
  {
   "cell_type": "code",
   "execution_count": null,
   "metadata": {},
   "outputs": [],
   "source": []
  }
 ],
 "metadata": {
  "kernelspec": {
   "display_name": "Python 3",
   "language": "python",
   "name": "python3"
  },
  "language_info": {
   "codemirror_mode": {
    "name": "ipython",
    "version": 3
   },
   "file_extension": ".py",
   "mimetype": "text/x-python",
   "name": "python",
   "nbconvert_exporter": "python",
   "pygments_lexer": "ipython3",
   "version": "3.8.5"
  },
  "toc": {
   "base_numbering": 1,
   "nav_menu": {},
   "number_sections": true,
   "sideBar": true,
   "skip_h1_title": false,
   "title_cell": "Table of Contents",
   "title_sidebar": "Contents",
   "toc_cell": false,
   "toc_position": {},
   "toc_section_display": true,
   "toc_window_display": false
  },
  "varInspector": {
   "cols": {
    "lenName": 16,
    "lenType": 16,
    "lenVar": 40
   },
   "kernels_config": {
    "python": {
     "delete_cmd_postfix": "",
     "delete_cmd_prefix": "del ",
     "library": "var_list.py",
     "varRefreshCmd": "print(var_dic_list())"
    },
    "r": {
     "delete_cmd_postfix": ") ",
     "delete_cmd_prefix": "rm(",
     "library": "var_list.r",
     "varRefreshCmd": "cat(var_dic_list()) "
    }
   },
   "types_to_exclude": [
    "module",
    "function",
    "builtin_function_or_method",
    "instance",
    "_Feature"
   ],
   "window_display": false
  }
 },
 "nbformat": 4,
 "nbformat_minor": 4
}
