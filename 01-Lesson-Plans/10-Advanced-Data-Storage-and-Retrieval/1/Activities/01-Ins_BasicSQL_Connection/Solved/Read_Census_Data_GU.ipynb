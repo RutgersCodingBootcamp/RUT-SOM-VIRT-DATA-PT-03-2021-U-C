{
 "cells": [
  {
   "cell_type": "code",
   "execution_count": null,
   "metadata": {
    "ExecuteTime": {
     "end_time": "2021-06-05T14:21:01.680981Z",
     "start_time": "2021-06-05T14:21:01.678774Z"
    }
   },
   "outputs": [],
   "source": [
    "# SQL Alchemy\n",
    "from sqlalchemy import create_engine\n"
   ]
  },
  {
   "cell_type": "code",
   "execution_count": null,
   "metadata": {
    "ExecuteTime": {
     "end_time": "2021-06-05T14:21:02.059183Z",
     "start_time": "2021-06-05T14:21:02.057231Z"
    }
   },
   "outputs": [],
   "source": [
    "# define path to database - Census_Data.sqlite\n",
    "\n",
    "path = \"../Resources/Census_Data.sqlite\""
   ]
  },
  {
   "cell_type": "code",
   "execution_count": null,
   "metadata": {
    "ExecuteTime": {
     "end_time": "2021-06-05T14:21:02.490409Z",
     "start_time": "2021-06-05T14:21:02.487460Z"
    }
   },
   "outputs": [],
   "source": [
    "# create URI\n",
    "\n",
    "URI = f\"sqlite:///{path}\""
   ]
  },
  {
   "cell_type": "code",
   "execution_count": null,
   "metadata": {
    "ExecuteTime": {
     "end_time": "2021-06-05T14:21:03.076497Z",
     "start_time": "2021-06-05T14:21:03.062529Z"
    }
   },
   "outputs": [],
   "source": [
    "# create engine object using URI - for other db, URI needs add'l config\n",
    "\n",
    "engine = create_engine(URI)"
   ]
  },
  {
   "cell_type": "code",
   "execution_count": null,
   "metadata": {
    "ExecuteTime": {
     "end_time": "2021-06-05T14:21:03.753241Z",
     "start_time": "2021-06-05T14:21:03.749402Z"
    }
   },
   "outputs": [],
   "source": [
    "# query all records\n",
    "data = engine.execute(\"SELECT * FROM Census_Data\")"
   ]
  },
  {
   "cell_type": "code",
   "execution_count": null,
   "metadata": {
    "ExecuteTime": {
     "end_time": "2021-06-05T14:22:06.320737Z",
     "start_time": "2021-06-05T14:22:06.311889Z"
    }
   },
   "outputs": [],
   "source": [
    "# note result object\n",
    "data"
   ]
  },
  {
   "cell_type": "code",
   "execution_count": null,
   "metadata": {
    "ExecuteTime": {
     "end_time": "2021-06-05T14:22:30.531365Z",
     "start_time": "2021-06-05T14:22:30.525064Z"
    }
   },
   "outputs": [],
   "source": [
    "# print all results\n",
    "for x in data:\n",
    "    print(x)"
   ]
  }
 ],
 "metadata": {
  "anaconda-cloud": {},
  "kernelspec": {
   "display_name": "Python 3",
   "language": "python",
   "name": "python3"
  },
  "language_info": {
   "codemirror_mode": {
    "name": "ipython",
    "version": 3
   },
   "file_extension": ".py",
   "mimetype": "text/x-python",
   "name": "python",
   "nbconvert_exporter": "python",
   "pygments_lexer": "ipython3",
   "version": "3.8.5"
  },
  "toc": {
   "base_numbering": 1,
   "nav_menu": {},
   "number_sections": true,
   "sideBar": true,
   "skip_h1_title": false,
   "title_cell": "Table of Contents",
   "title_sidebar": "Contents",
   "toc_cell": false,
   "toc_position": {},
   "toc_section_display": true,
   "toc_window_display": false
  },
  "varInspector": {
   "cols": {
    "lenName": 16,
    "lenType": 16,
    "lenVar": 40
   },
   "kernels_config": {
    "python": {
     "delete_cmd_postfix": "",
     "delete_cmd_prefix": "del ",
     "library": "var_list.py",
     "varRefreshCmd": "print(var_dic_list())"
    },
    "r": {
     "delete_cmd_postfix": ") ",
     "delete_cmd_prefix": "rm(",
     "library": "var_list.r",
     "varRefreshCmd": "cat(var_dic_list()) "
    }
   },
   "types_to_exclude": [
    "module",
    "function",
    "builtin_function_or_method",
    "instance",
    "_Feature"
   ],
   "window_display": false
  }
 },
 "nbformat": 4,
 "nbformat_minor": 1
}
