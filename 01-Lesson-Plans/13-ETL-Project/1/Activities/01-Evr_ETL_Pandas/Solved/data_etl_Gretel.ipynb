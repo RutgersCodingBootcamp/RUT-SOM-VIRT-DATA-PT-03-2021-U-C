{
 "cells": [
  {
   "cell_type": "code",
   "execution_count": null,
   "metadata": {
    "ExecuteTime": {
     "end_time": "2021-06-23T20:52:37.481437Z",
     "start_time": "2021-06-23T20:52:36.821545Z"
    }
   },
   "outputs": [],
   "source": [
    "import pandas as pd\n",
    "from sqlalchemy import create_engine\n",
    "from config import password, username"
   ]
  },
  {
   "cell_type": "markdown",
   "metadata": {},
   "source": [
    "# Extract"
   ]
  },
  {
   "cell_type": "code",
   "execution_count": null,
   "metadata": {
    "ExecuteTime": {
     "end_time": "2021-06-23T20:52:37.500852Z",
     "start_time": "2021-06-23T20:52:37.483886Z"
    }
   },
   "outputs": [],
   "source": [
    "csv_path = \"../Resources/customers.csv\"\n",
    "customer_df = pd.read_csv(csv_path)\n",
    "customer_df.head()"
   ]
  },
  {
   "cell_type": "code",
   "execution_count": null,
   "metadata": {
    "ExecuteTime": {
     "end_time": "2021-06-23T20:52:37.520126Z",
     "start_time": "2021-06-23T20:52:37.503240Z"
    }
   },
   "outputs": [],
   "source": [
    "json_path = \"../Resources/addresses.json\"\n",
    "address_df = pd.read_json(json_path)\n",
    "address_df.head()"
   ]
  },
  {
   "cell_type": "markdown",
   "metadata": {},
   "source": [
    "# Transform"
   ]
  },
  {
   "cell_type": "markdown",
   "metadata": {},
   "source": [
    "## EDA\n",
    "* You will need to do a whole lot more than I have done"
   ]
  },
  {
   "cell_type": "code",
   "execution_count": null,
   "metadata": {
    "ExecuteTime": {
     "end_time": "2021-06-23T20:52:37.529218Z",
     "start_time": "2021-06-23T20:52:37.521982Z"
    }
   },
   "outputs": [],
   "source": [
    "customer_df.info()"
   ]
  },
  {
   "cell_type": "code",
   "execution_count": null,
   "metadata": {
    "ExecuteTime": {
     "end_time": "2021-06-23T20:52:37.541934Z",
     "start_time": "2021-06-23T20:52:37.531777Z"
    }
   },
   "outputs": [],
   "source": [
    "address_df.info()"
   ]
  },
  {
   "cell_type": "markdown",
   "metadata": {},
   "source": [
    "## Data Cleaning\n",
    "* You will have to do a whole lot more than I have done"
   ]
  },
  {
   "cell_type": "code",
   "execution_count": null,
   "metadata": {
    "ExecuteTime": {
     "end_time": "2021-06-23T20:52:37.562536Z",
     "start_time": "2021-06-23T20:52:37.546069Z"
    }
   },
   "outputs": [],
   "source": [
    "address_df[['last_name','first_name']] = address_df['name'].str.split(',',expand=True)\n",
    "address_df.head()"
   ]
  },
  {
   "cell_type": "code",
   "execution_count": null,
   "metadata": {
    "ExecuteTime": {
     "end_time": "2021-06-23T20:52:37.583880Z",
     "start_time": "2021-06-23T20:52:37.566282Z"
    }
   },
   "outputs": [],
   "source": [
    "merged_df = pd.merge(customer_df, address_df, on = [\"first_name\", \"last_name\"])\n",
    "merged_df.head()"
   ]
  },
  {
   "cell_type": "markdown",
   "metadata": {},
   "source": [
    "## Get data into separate dataframes to match tables\n",
    "* Make sure to include primary keys!"
   ]
  },
  {
   "cell_type": "code",
   "execution_count": null,
   "metadata": {
    "ExecuteTime": {
     "end_time": "2021-06-23T20:52:37.596117Z",
     "start_time": "2021-06-23T20:52:37.586357Z"
    }
   },
   "outputs": [],
   "source": [
    "max(merged_df[[\"first_name\", \"last_name\"]].value_counts().to_list())"
   ]
  },
  {
   "cell_type": "code",
   "execution_count": null,
   "metadata": {
    "ExecuteTime": {
     "end_time": "2021-06-23T20:52:37.601057Z",
     "start_time": "2021-06-23T20:52:37.598023Z"
    }
   },
   "outputs": [],
   "source": [
    "merged_df.reset_index(inplace = True)"
   ]
  },
  {
   "cell_type": "code",
   "execution_count": null,
   "metadata": {
    "ExecuteTime": {
     "end_time": "2021-06-23T20:52:37.605737Z",
     "start_time": "2021-06-23T20:52:37.603250Z"
    }
   },
   "outputs": [],
   "source": [
    "merged_df.rename(columns={\"index\": \"customer_id\"}, inplace = True)"
   ]
  },
  {
   "cell_type": "code",
   "execution_count": null,
   "metadata": {
    "ExecuteTime": {
     "end_time": "2021-06-23T20:52:37.618566Z",
     "start_time": "2021-06-23T20:52:37.607179Z"
    }
   },
   "outputs": [],
   "source": [
    "merged_df.head()"
   ]
  },
  {
   "cell_type": "code",
   "execution_count": null,
   "metadata": {
    "ExecuteTime": {
     "end_time": "2021-06-23T20:52:37.624322Z",
     "start_time": "2021-06-23T20:52:37.619999Z"
    }
   },
   "outputs": [],
   "source": [
    "names_df = merged_df[[\"customer_id\", \"first_name\", \"last_name\"]]\n",
    "location_df = merged_df[[\"customer_id\", \"address\", \"us_state\"]]\n",
    "email_df = merged_df[[\"customer_id\", \"email\"]]"
   ]
  },
  {
   "cell_type": "code",
   "execution_count": null,
   "metadata": {
    "ExecuteTime": {
     "end_time": "2021-06-23T20:52:37.634201Z",
     "start_time": "2021-06-23T20:52:37.626405Z"
    }
   },
   "outputs": [],
   "source": [
    "max(location_df[[\"address\", \"us_state\"]].value_counts().to_list())"
   ]
  },
  {
   "cell_type": "code",
   "execution_count": null,
   "metadata": {
    "ExecuteTime": {
     "end_time": "2021-06-23T20:52:37.646802Z",
     "start_time": "2021-06-23T20:52:37.636663Z"
    }
   },
   "outputs": [],
   "source": [
    "location_df = location_df.reset_index().rename(columns={\"index\": \"location_id\"})\n",
    "location_df.head()"
   ]
  },
  {
   "cell_type": "code",
   "execution_count": null,
   "metadata": {
    "ExecuteTime": {
     "end_time": "2021-06-23T20:52:37.652568Z",
     "start_time": "2021-06-23T20:52:37.648139Z"
    }
   },
   "outputs": [],
   "source": [
    "max(email_df[\"email\"].value_counts().to_list())"
   ]
  },
  {
   "cell_type": "code",
   "execution_count": null,
   "metadata": {
    "ExecuteTime": {
     "end_time": "2021-06-23T20:52:37.662011Z",
     "start_time": "2021-06-23T20:52:37.654012Z"
    }
   },
   "outputs": [],
   "source": [
    "email_df = email_df.reset_index().rename(columns={\"index\": \"email_id\"})\n",
    "email_df.head()"
   ]
  },
  {
   "cell_type": "markdown",
   "metadata": {},
   "source": [
    "# Load"
   ]
  },
  {
   "cell_type": "markdown",
   "metadata": {},
   "source": [
    "## Connect to local database"
   ]
  },
  {
   "cell_type": "code",
   "execution_count": null,
   "metadata": {
    "ExecuteTime": {
     "end_time": "2021-06-23T20:52:37.698928Z",
     "start_time": "2021-06-23T20:52:37.663404Z"
    }
   },
   "outputs": [],
   "source": [
    "rds_connection_string = f\"{username}:{password}@localhost:5432/customer_db\"\n",
    "engine = create_engine(f'postgresql://{rds_connection_string}')"
   ]
  },
  {
   "cell_type": "markdown",
   "metadata": {},
   "source": [
    "## Check for tables"
   ]
  },
  {
   "cell_type": "code",
   "execution_count": null,
   "metadata": {
    "ExecuteTime": {
     "end_time": "2021-06-23T20:52:37.746661Z",
     "start_time": "2021-06-23T20:52:37.704442Z"
    }
   },
   "outputs": [],
   "source": [
    "engine.table_names()"
   ]
  },
  {
   "cell_type": "markdown",
   "metadata": {},
   "source": [
    "## Export data from dataframes to tables"
   ]
  },
  {
   "cell_type": "code",
   "execution_count": null,
   "metadata": {
    "ExecuteTime": {
     "end_time": "2021-06-23T20:52:37.905509Z",
     "start_time": "2021-06-23T20:52:37.749934Z"
    }
   },
   "outputs": [],
   "source": [
    "names_df.to_sql(name='customer_name', con=engine, if_exists='append', index=False)"
   ]
  },
  {
   "cell_type": "code",
   "execution_count": null,
   "metadata": {
    "ExecuteTime": {
     "end_time": "2021-06-23T20:52:37.912576Z",
     "start_time": "2021-06-23T20:52:37.013Z"
    }
   },
   "outputs": [],
   "source": [
    "location_df.to_sql(name='customer_location', con=engine, if_exists='append', index=False)"
   ]
  },
  {
   "cell_type": "code",
   "execution_count": null,
   "metadata": {
    "ExecuteTime": {
     "end_time": "2021-06-23T20:52:37.913697Z",
     "start_time": "2021-06-23T20:52:37.014Z"
    }
   },
   "outputs": [],
   "source": [
    "email_df.to_sql(name='customer_email', con=engine, if_exists='append', index=False)"
   ]
  },
  {
   "cell_type": "markdown",
   "metadata": {},
   "source": [
    "## Confirm data has been added by querying tables\n",
    "* NOTE: can also check using pgAdmin"
   ]
  },
  {
   "cell_type": "code",
   "execution_count": null,
   "metadata": {
    "ExecuteTime": {
     "end_time": "2021-06-23T20:52:37.914525Z",
     "start_time": "2021-06-23T20:52:37.041Z"
    }
   },
   "outputs": [],
   "source": [
    "pd.read_sql_query('select * from customer_name', con=engine).head()"
   ]
  },
  {
   "cell_type": "code",
   "execution_count": null,
   "metadata": {
    "ExecuteTime": {
     "end_time": "2021-06-23T20:52:37.915597Z",
     "start_time": "2021-06-23T20:52:37.043Z"
    }
   },
   "outputs": [],
   "source": [
    "pd.read_sql_query('select * from customer_location', con=engine).head()"
   ]
  },
  {
   "cell_type": "code",
   "execution_count": null,
   "metadata": {
    "ExecuteTime": {
     "end_time": "2021-06-23T20:52:37.916571Z",
     "start_time": "2021-06-23T20:52:37.045Z"
    }
   },
   "outputs": [],
   "source": [
    "pd.read_sql_query('select * from customer_email', con=engine).head()"
   ]
  },
  {
   "cell_type": "code",
   "execution_count": null,
   "metadata": {},
   "outputs": [],
   "source": []
  }
 ],
 "metadata": {
  "finalized": {
   "timestamp": 1624479198396,
   "trusted": false
  },
  "kernelspec": {
   "display_name": "Python [conda env:PythonData] *",
   "language": "python",
   "name": "conda-env-PythonData-py"
  },
  "language_info": {
   "codemirror_mode": {
    "name": "ipython",
    "version": 3
   },
   "file_extension": ".py",
   "mimetype": "text/x-python",
   "name": "python",
   "nbconvert_exporter": "python",
   "pygments_lexer": "ipython3",
   "version": "3.8.5"
  },
  "nteract": {
   "version": "0.12.3"
  },
  "toc": {
   "base_numbering": 1,
   "nav_menu": {},
   "number_sections": true,
   "sideBar": true,
   "skip_h1_title": false,
   "title_cell": "Table of Contents",
   "title_sidebar": "Contents",
   "toc_cell": false,
   "toc_position": {},
   "toc_section_display": true,
   "toc_window_display": false
  },
  "varInspector": {
   "cols": {
    "lenName": 16,
    "lenType": 16,
    "lenVar": 40
   },
   "kernels_config": {
    "python": {
     "delete_cmd_postfix": "",
     "delete_cmd_prefix": "del ",
     "library": "var_list.py",
     "varRefreshCmd": "print(var_dic_list())"
    },
    "r": {
     "delete_cmd_postfix": ") ",
     "delete_cmd_prefix": "rm(",
     "library": "var_list.r",
     "varRefreshCmd": "cat(var_dic_list()) "
    }
   },
   "types_to_exclude": [
    "module",
    "function",
    "builtin_function_or_method",
    "instance",
    "_Feature"
   ],
   "window_display": false
  }
 },
 "nbformat": 4,
 "nbformat_minor": 2
}
